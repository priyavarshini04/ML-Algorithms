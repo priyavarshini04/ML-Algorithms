{
 "cells": [
  {
   "cell_type": "markdown",
   "metadata": {},
   "source": [
    "KNN Algorithm basic functionality"
   ]
  },
  {
   "cell_type": "markdown",
   "metadata": {},
   "source": [
    "Import libraries --> np for mathematical calculations and Counter to count/to determine the freq of closer neighbours based on labels"
   ]
  },
  {
   "cell_type": "code",
   "execution_count": 8,
   "metadata": {},
   "outputs": [],
   "source": [
    "import numpy as np\n",
    "from collections import Counter"
   ]
  },
  {
   "cell_type": "markdown",
   "metadata": {},
   "source": [
    "Calculate Euclidean Distance as the data is numerical"
   ]
  },
  {
   "cell_type": "code",
   "execution_count": 12,
   "metadata": {},
   "outputs": [
    {
     "name": "stdout",
     "output_type": "stream",
     "text": [
      "6.0\n"
     ]
    }
   ],
   "source": [
    "def euclidean_distance(training_point,test_point):\n",
    "    euclidean_distance=np.sqrt(np.sum(np.array(training_point)-np.array(test_point))**2)\n",
    "    return euclidean_distance\n",
    "a=[4,5]\n",
    "b=[7,8]\n",
    "c=euclidean_distance(a,b)\n",
    "print(c)"
   ]
  },
  {
   "cell_type": "markdown",
   "metadata": {},
   "source": [
    "Calculate Euclidean distance between training points and test point and append it in the distance list along with training_labels. Sort the distances in ascending order and retrieve the shorter distances labels and count the most common label among it and that the closest class."
   ]
  },
  {
   "cell_type": "code",
   "execution_count": 17,
   "metadata": {},
   "outputs": [],
   "source": [
    "def KNN_predict(training_point,training_labels,test_point,k):\n",
    "    distances=[]\n",
    "    for i in range(len(training_point)):\n",
    "        distance=euclidean_distance(test_point,training_point[i])\n",
    "        distances.append((distance,training_labels[i]))\n",
    "    distances.sort(key=lambda x:x[0])\n",
    "    k_nearest_labels=[label for _,label in distances[:k]]\n",
    "    return Counter(k_nearest_labels).most_common(1)[0][0]\n",
    "\n",
    "    \n"
   ]
  },
  {
   "cell_type": "code",
   "execution_count": 18,
   "metadata": {},
   "outputs": [
    {
     "data": {
      "text/plain": [
       "'a'"
      ]
     },
     "execution_count": 18,
     "metadata": {},
     "output_type": "execute_result"
    }
   ],
   "source": [
    "training_point=[[1,2],[2,3],[3,4],[5,6],[6,7]]\n",
    "training_labels=['a','a','a','b','b']\n",
    "test_point=[4,5]\n",
    "k=3\n",
    "KNN_predict(training_point,training_labels,test_point,k)"
   ]
  }
 ],
 "metadata": {
  "kernelspec": {
   "display_name": "base",
   "language": "python",
   "name": "python3"
  },
  "language_info": {
   "codemirror_mode": {
    "name": "ipython",
    "version": 3
   },
   "file_extension": ".py",
   "mimetype": "text/x-python",
   "name": "python",
   "nbconvert_exporter": "python",
   "pygments_lexer": "ipython3",
   "version": "3.12.7"
  }
 },
 "nbformat": 4,
 "nbformat_minor": 2
}
